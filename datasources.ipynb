{
 "cells": [
  {
   "cell_type": "markdown",
   "id": "7c253ece",
   "metadata": {},
   "source": [
    "# Dependencies And Packages"
   ]
  },
  {
   "cell_type": "code",
   "execution_count": null,
   "id": "7e6c11fd",
   "metadata": {},
   "outputs": [],
   "source": [
    "import glob\n",
    "import pandas as pd"
   ]
  },
  {
   "cell_type": "code",
   "execution_count": null,
   "id": "c3e2af7c",
   "metadata": {},
   "outputs": [],
   "source": [
    "def country_rename(nation):\n",
    "    \"\"\"\n",
    "        Renames the nation names to a uniform standard for \n",
    "        certain nations who have names with special\n",
    "        characters.\n",
    "    \"\"\"\n",
    "    if nation == \"Cabo Verde\":\n",
    "        return \"Cape Verde\"\n",
    "    elif nation == \"Congo, Republic of\":\n",
    "        return \"Congo\"\n",
    "    elif nation == \"Congo, Dem. Rep. of the\":\n",
    "        return \"Democratic Republic of the Congo\"\n",
    "    elif nation == \"Gambia, The\":\n",
    "        return \"Gambia\"\n",
    "    elif nation == \"Côte d'Ivoire\":\n",
    "        return \"Cote d'Ivoire\"\n",
    "    elif nation == \"São Tomé and Príncipe\":\n",
    "        return \"Sao Tome and Principe\"\n",
    "    elif nation == \"South Sudan, Republic of\":\n",
    "        return \"South Sudan\"\n",
    "    else:\n",
    "        return nation"
   ]
  },
  {
   "cell_type": "markdown",
   "id": "6d7dde8b",
   "metadata": {},
   "source": [
    "# <span style=\"color:gold\">IMF Datasets</span>"
   ]
  },
  {
   "cell_type": "markdown",
   "id": "1884280c",
   "metadata": {},
   "source": [
    "#### Kindly Note:\n",
    "- The raw files come in old Excel format (.xls)\n",
    "- After downloading, they need to be unblocked and converted to .xlsx format\n",
    "- Preprocessing can be performed after"
   ]
  },
  {
   "cell_type": "code",
   "execution_count": null,
   "id": "f2325bf7",
   "metadata": {},
   "outputs": [],
   "source": [
    "# Data Key\n",
    "imf_data = {\n",
    "    \"NGDP_RPCH\": \"Real GDP growth (Annual percent change)\",\n",
    "     \"NGDPD\": \"GDP, current prices (Billions of U.S. dollars)\",\n",
    "    \"PCPIEPCH\": \"Inflation rate, end of period consumer prices (Annual percent change)\",\n",
    "    \"LP\": \"Population (Millions of people)\",\n",
    "    \"GGXWDG_NGDP\": \"General government gross debt (Percent of GDP)\",\n",
    "     \"rev\": \"Government revenue, percent of GDP (% of GDP)\",\n",
    "    \"exp\": \"Government expenditure, percent of GDP (% of GDP)\",\n",
    "    \"DEBT1\": \"DEBT (% of GDP)\",\n",
    "}"
   ]
  },
  {
   "cell_type": "code",
   "execution_count": null,
   "id": "90f061a9",
   "metadata": {},
   "outputs": [],
   "source": [
    "for key,value in imf_data.items():\n",
    "    print(key, value)"
   ]
  },
  {
   "cell_type": "code",
   "execution_count": null,
   "id": "d2c43188",
   "metadata": {},
   "outputs": [],
   "source": [
    "%%time\n",
    "\n",
    "# Reading all the excel files in the folder\n",
    "folder = glob.glob(\"data\\\\imf_data\\\\*.xlsx\")\n",
    "\n",
    "for key,value in imf_data.items():\n",
    "    print(f\"{key}: ++++++++++++++++ {value} being extracted.\")\n",
    "\n",
    "    nations_data = []\n",
    "\n",
    "    for file in folder:\n",
    "        try:\n",
    "            df = pd.read_excel(file, sheet_name = f'{key}', skiprows = [1, 3, 4])\n",
    "        except Exception as e:\n",
    "            print(e)\n",
    "            \n",
    "        df.rename(columns={f\"{value}\":\"Nation\"}, inplace = True)\n",
    "\n",
    "        # The following are the columns we require at the end of the process\n",
    "        dataset_cols = [\"Nation\", 2013, 2014, 2015, 2016, 2017, 2018, 2019, 2020,\n",
    "                   2021, 2022, 2023]\n",
    "\n",
    "        df_cols = [i for i in df.columns]\n",
    "\n",
    "        # Comparing the columns that come in with each data file to the required columns\n",
    "        ds_ = set(dataset_cols)\n",
    "\n",
    "        df_ = set(df_cols)\n",
    "\n",
    "        diff = ds_.difference(df_)\n",
    "\n",
    "        if len(diff) == 0:\n",
    "            # Selecting the columns we need. Our time horizon for analysis is from 2013 to 2023\n",
    "            sub_df = df[[\"Nation\", 2013, 2014, 2015, 2016, 2017, 2018, 2019, 2020,\n",
    "                       2021, 2022, 2023]]\n",
    "        else:\n",
    "            # Adding the missing columns to the incoming data file\n",
    "            for col in diff:\n",
    "                df[col] = float(0)\n",
    "\n",
    "            sub_df = df[[\"Nation\", 2013, 2014, 2015, 2016, 2017, 2018, 2019, 2020,\n",
    "                       2021, 2022, 2023]]\n",
    "\n",
    "        # Renaming columns\n",
    "        sub_df.columns = [\"Nation\", '2013', '2014', '2015', '2016', '2017', '2018', '2019', '2020',\n",
    "                   '2021', '2022', '2023']\n",
    "\n",
    "        nations_data.append(sub_df)\n",
    "\n",
    "    dataset = pd.concat(nations_data)\n",
    "\n",
    "    # Ensuring consistency of the names of the nations\n",
    "    dataset[\"Nation\"] = dataset[\"Nation\"].apply(lambda x: country_rename(x))\n",
    "\n",
    "    # Unpivoting the content to form a long dataset\n",
    "    melted_dataset = pd.melt(dataset, id_vars=['Nation'], var_name='Year', value_name=f'{value}')\n",
    "\n",
    "#     display(melted_dataset)\n",
    "\n",
    "    # Save dataset for analysis\n",
    "    melted_dataset.to_parquet(f\"data\\\\analysis_datasets\\\\{value}.parquet\", index = False)\n",
    "    print(f\"Saved {value} data\")\n",
    "    \n",
    "    del(nations_data, df, dataset, melted_dataset)"
   ]
  },
  {
   "cell_type": "code",
   "execution_count": null,
   "id": "a50f5e17",
   "metadata": {},
   "outputs": [],
   "source": []
  }
 ],
 "metadata": {
  "kernelspec": {
   "display_name": "Python 3 (ipykernel)",
   "language": "python",
   "name": "python3"
  },
  "language_info": {
   "codemirror_mode": {
    "name": "ipython",
    "version": 3
   },
   "file_extension": ".py",
   "mimetype": "text/x-python",
   "name": "python",
   "nbconvert_exporter": "python",
   "pygments_lexer": "ipython3",
   "version": "3.11.2"
  }
 },
 "nbformat": 4,
 "nbformat_minor": 5
}
